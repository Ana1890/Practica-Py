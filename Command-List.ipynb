{
 "cells": [
  {
   "cell_type": "markdown",
   "metadata": {},
   "source": [
    "Initialize your list and read in the value of N followed by N  lines of commands where each command will be of the 7 types listed above. Iterate through each command in order and perform the corresponding operation on your list.\n",
    "\n",
    "* insert i e: Insert integer  at position .\n",
    "* print: Print the list.\n",
    "* remove e: Delete the first occurrence of integer .\n",
    "* append e: Insert integer  at the end of the list.\n",
    "* sort: Sort the list.\n",
    "* pop: Pop the last element from the list.\n",
    "* reverse: Reverse the list."
   ]
  },
  {
   "cell_type": "code",
   "execution_count": 3,
   "metadata": {},
   "outputs": [
    {
     "name": "stdout",
     "output_type": "stream",
     "text": [
      "12\n",
      "insert 0 5\n",
      "hay insert\n",
      "insert 1 10\n",
      "hay insert\n",
      "insert 0 6\n",
      "hay insert\n",
      "print\n",
      "[6, 5, 10]\n",
      "remove 6\n",
      "append 9\n",
      "append 1\n",
      "sort\n",
      "print\n",
      "[1, 5, 9, 10]\n",
      "pop\n",
      "reverse\n",
      "print\n",
      "[9, 5, 1]\n"
     ]
    }
   ],
   "source": [
    "N = int(input())\n",
    "j = list()\n",
    "\n",
    "for i in range(N):\n",
    "    ent = input().strip().split(' ')\n",
    "\n",
    "    if 'insert' in ent:\n",
    "        print(\"hay insert\")\n",
    "        i = int(ent[1])\n",
    "        e = int(ent[2])\n",
    "        j.insert(i,e)\n",
    "        \n",
    "    elif 'print'in ent:\n",
    "        print(j)\n",
    "        \n",
    "    elif 'remove' in ent:\n",
    "        e = int(ent[1])\n",
    "        j.remove(e)\n",
    "\n",
    "    elif 'append' in ent:\n",
    "        e = int(ent[1])\n",
    "        j.append(e)\n",
    "\n",
    "    elif 'sort' in ent:\n",
    "        j.sort()\n",
    "    \n",
    "    elif 'pop' in ent:\n",
    "        j.pop()\n",
    "        \n",
    "    elif 'reverse' in ent:\n",
    "        j.reverse()\n",
    "        \n"
   ]
  }
 ],
 "metadata": {
  "kernelspec": {
   "display_name": "Python 3",
   "language": "python",
   "name": "python3"
  },
  "language_info": {
   "codemirror_mode": {
    "name": "ipython",
    "version": 3
   },
   "file_extension": ".py",
   "mimetype": "text/x-python",
   "name": "python",
   "nbconvert_exporter": "python",
   "pygments_lexer": "ipython3",
   "version": "3.8.3"
  }
 },
 "nbformat": 4,
 "nbformat_minor": 4
}
