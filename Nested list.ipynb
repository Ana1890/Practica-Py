{
 "cells": [
  {
   "cell_type": "markdown",
   "metadata": {},
   "source": [
    "Search the second lowest score of a list of students as: [['name', score],...] and give a sorted list of names"
   ]
  },
  {
   "cell_type": "code",
   "execution_count": 8,
   "metadata": {},
   "outputs": [
    {
     "name": "stdout",
     "output_type": "stream",
     "text": [
      "5\n",
      "maria\n",
      "4.5\n",
      "pedro\n",
      "4.5\n",
      "lorenzo\n",
      "4.9\n",
      "juana\n",
      "4.9\n",
      "jorgelina\n",
      "4.9\n",
      "[['maria', 4.5], ['pedro', 4.5], ['lorenzo', 4.9], ['juana', 4.9], ['jorgelina', 4.9]]\n",
      "{'jorgelina': 4.9, 'juana': 4.9, 'lorenzo': 4.9, 'maria': 4.5, 'pedro': 4.5}\n",
      "jorgelina\n",
      "juana\n",
      "lorenzo\n"
     ]
    }
   ],
   "source": [
    "students_list = list()\n",
    "    \n",
    "for _ in range(int(input())):\n",
    "    name = input()\n",
    "    score = float(input())\n",
    "    students_list.append([name, score])\n",
    "\n",
    "print(students_list)\n",
    "\n",
    "b = dict(sorted(students_list))\n",
    "print(b)\n",
    "\n",
    "bi ={k:v for k,v in b.items() if v != min(b.values())}   \n",
    "\n",
    "for x,y in bi.items():\n",
    "    if y == min(bi.values()):\n",
    "        print(x)"
   ]
  },
  {
   "cell_type": "code",
   "execution_count": 9,
   "metadata": {},
   "outputs": [
    {
     "data": {
      "text/plain": [
       "{'jorgelina': 4.9, 'juana': 4.9, 'lorenzo': 4.9}"
      ]
     },
     "execution_count": 9,
     "metadata": {},
     "output_type": "execute_result"
    }
   ],
   "source": [
    "bi"
   ]
  },
  {
   "cell_type": "code",
   "execution_count": null,
   "metadata": {},
   "outputs": [],
   "source": [
    "# {'Harry': 37.21, 'Berry': 37.21, 'Tina': 37.2,'Akriti': 41, 'Harsh': 39}\n",
    "# [['maria', 4.5], ['pedro', 4.5], ['lorenzo', 4.9], ['juana', 4.9], ['jorgelina', 4.9]]"
   ]
  }
 ],
 "metadata": {
  "kernelspec": {
   "display_name": "Python 3",
   "language": "python",
   "name": "python3"
  },
  "language_info": {
   "codemirror_mode": {
    "name": "ipython",
    "version": 3
   },
   "file_extension": ".py",
   "mimetype": "text/x-python",
   "name": "python",
   "nbconvert_exporter": "python",
   "pygments_lexer": "ipython3",
   "version": "3.8.3"
  }
 },
 "nbformat": 4,
 "nbformat_minor": 4
}
