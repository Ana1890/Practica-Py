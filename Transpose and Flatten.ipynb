{
 "cells": [
  {
   "cell_type": "markdown",
   "metadata": {},
   "source": [
    "Dada una matriz separada por espacios y sus dimensiones, imprimir la transpuesta y el flatten de dicha matriz"
   ]
  },
  {
   "cell_type": "code",
   "execution_count": 39,
   "metadata": {},
   "outputs": [
    {
     "name": "stdout",
     "output_type": "stream",
     "text": [
      "2 2\n",
      "1 2\n",
      "3 4\n",
      "[[1 3]\n",
      " [2 4]]\n",
      "[1 2 3 4]\n"
     ]
    }
   ],
   "source": [
    "import numpy \n",
    "\n",
    "# Ingresamos las dimensiones de nuestra matriz\n",
    "dim = input().strip().split(' ')\n",
    "dim = numpy.array(dim, int)\n",
    "\n",
    "N, M = dim[0], dim[1]\n",
    "\n",
    "# Ingresamos los elementos de la matriz\n",
    "a = []\n",
    "for i in range(0,N):  \n",
    "    a.append([int(j) for j in input().strip().split(' ')]) \n",
    "\n",
    "\n",
    "arr = numpy.array(a)\n",
    "\n",
    "# Calculamos la transpuesta y el flatten\n",
    "\n",
    "t = numpy.transpose(arr)\n",
    "f = arr.flatten()\n",
    "\n",
    "print(t)\n",
    "print(f)"
   ]
  }
 ],
 "metadata": {
  "kernelspec": {
   "display_name": "Python 3",
   "language": "python",
   "name": "python3"
  },
  "language_info": {
   "codemirror_mode": {
    "name": "ipython",
    "version": 3
   },
   "file_extension": ".py",
   "mimetype": "text/x-python",
   "name": "python",
   "nbconvert_exporter": "python",
   "pygments_lexer": "ipython3",
   "version": "3.8.3"
  }
 },
 "nbformat": 4,
 "nbformat_minor": 4
}
